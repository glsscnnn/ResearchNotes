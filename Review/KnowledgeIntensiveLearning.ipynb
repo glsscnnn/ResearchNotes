{
 "cells": [
  {
   "cell_type": "markdown",
   "id": "selective-pilot",
   "metadata": {},
   "source": [
    "## Abstract\n",
    "\n",
    "\"made an algorithm based on gradient descent for estimating the parameters of a Bayesian network\" (Natarajan & Yang 2013)\n",
    "\n",
    "**connection** $hL_2 \\rightarrow hL_N$ of a Deep Beleif Network make up a Bayesian Network.\n",
    "\n",
    "Nosiy-Or can greatly reduce data requirements by seperating the influence of each parent (Natarajan & Yang 2013)"
   ]
  }
 ],
 "metadata": {
  "kernelspec": {
   "display_name": "Python 3",
   "language": "python",
   "name": "python3"
  },
  "language_info": {
   "codemirror_mode": {
    "name": "ipython",
    "version": 3
   },
   "file_extension": ".py",
   "mimetype": "text/x-python",
   "name": "python",
   "nbconvert_exporter": "python",
   "pygments_lexer": "ipython3",
   "version": "3.9.1"
  }
 },
 "nbformat": 4,
 "nbformat_minor": 5
}
