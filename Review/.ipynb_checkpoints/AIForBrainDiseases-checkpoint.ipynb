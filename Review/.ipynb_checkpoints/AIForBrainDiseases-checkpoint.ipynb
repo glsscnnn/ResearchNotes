{
 "cells": [
  {
   "cell_type": "markdown",
   "id": "nominated-accident",
   "metadata": {},
   "source": [
    "## Introduction\n",
    "\n",
    "So there's problems with manual processing and we can potentially improve this with AI.\n",
    "\n",
    "## Type of Data\n",
    "\n",
    "MRI, PET, fMRI, etc."
   ]
  }
 ],
 "metadata": {
  "kernelspec": {
   "display_name": "Python 3",
   "language": "python",
   "name": "python3"
  },
  "language_info": {
   "codemirror_mode": {
    "name": "ipython",
    "version": 3
   },
   "file_extension": ".py",
   "mimetype": "text/x-python",
   "name": "python",
   "nbconvert_exporter": "python",
   "pygments_lexer": "ipython3",
   "version": "3.9.1"
  }
 },
 "nbformat": 4,
 "nbformat_minor": 5
}
