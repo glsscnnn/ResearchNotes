{
 "cells": [
  {
   "cell_type": "markdown",
   "id": "suited-exclusion",
   "metadata": {},
   "source": [
    "## Abstract\n",
    "\n",
    "\"made an algorithm based on gradient descent for estimating the parameters of a Bayesian network\" (Natarajan 2013)\n",
    "\n",
    "**connection** layers of a Deep Beleif Network make up a Bayesian Network."
   ]
  }
 ],
 "metadata": {
  "kernelspec": {
   "display_name": "Python 3",
   "language": "python",
   "name": "python3"
  },
  "language_info": {
   "codemirror_mode": {
    "name": "ipython",
    "version": 3
   },
   "file_extension": ".py",
   "mimetype": "text/x-python",
   "name": "python",
   "nbconvert_exporter": "python",
   "pygments_lexer": "ipython3",
   "version": "3.9.1"
  }
 },
 "nbformat": 4,
 "nbformat_minor": 5
}
